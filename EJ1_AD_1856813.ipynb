{
  "nbformat": 4,
  "nbformat_minor": 0,
  "metadata": {
    "colab": {
      "name": "EJ1-AD-1856813",
      "provenance": []
    },
    "kernelspec": {
      "name": "python3",
      "display_name": "Python 3"
    },
    "language_info": {
      "name": "python"
    }
  },
  "cells": [
    {
      "cell_type": "code",
      "metadata": {
        "colab": {
          "base_uri": "https://localhost:8080/",
          "height": 126
        },
        "id": "cUThYwW7uk-x",
        "outputId": "f22ac7f9-99fe-4a7a-9f40-0d640912b743"
      },
      "source": [
        "de  sklearn.model_selection  importar  train_test_split \n",
        "de  sklearn.tree  importar  DecisionTreeClassifier \n",
        "importar  numpy  como  np \n",
        "importar  pandas  como  pd"
      ],
      "execution_count": 1,
      "outputs": [
        {
          "output_type": "error",
          "ename": "SyntaxError",
          "evalue": "ignored",
          "traceback": [
            "\u001b[0;36m  File \u001b[0;32m\"<ipython-input-1-d021d858cec1>\"\u001b[0;36m, line \u001b[0;32m1\u001b[0m\n\u001b[0;31m    de  sklearn.model_selection  importar  train_test_split\u001b[0m\n\u001b[0m              ^\u001b[0m\n\u001b[0;31mSyntaxError\u001b[0m\u001b[0;31m:\u001b[0m invalid syntax\n"
          ]
        }
      ]
    },
    {
      "cell_type": "code",
      "metadata": {
        "colab": {
          "base_uri": "https://localhost:8080/"
        },
        "id": "6AZeKWtJvwwa",
        "outputId": "cf7552f2-1a81-4b4d-af66-05776e26573c"
      },
      "source": [
        "! wget https://raw.githubusercontent.com/susanli2016/Machine-Learning-with-Python/master/diabetes.csv"
      ],
      "execution_count": 2,
      "outputs": [
        {
          "output_type": "stream",
          "text": [
            "--2021-07-13 16:42:02--  https://raw.githubusercontent.com/susanli2016/Machine-Learning-with-Python/master/diabetes.csv\n",
            "Resolving raw.githubusercontent.com (raw.githubusercontent.com)... 185.199.110.133, 185.199.109.133, 185.199.111.133, ...\n",
            "Connecting to raw.githubusercontent.com (raw.githubusercontent.com)|185.199.110.133|:443... connected.\n",
            "HTTP request sent, awaiting response... 200 OK\n",
            "Length: 23875 (23K) [text/plain]\n",
            "Saving to: ‘diabetes.csv’\n",
            "\n",
            "diabetes.csv        100%[===================>]  23.32K  --.-KB/s    in 0s      \n",
            "\n",
            "2021-07-13 16:42:02 (86.1 MB/s) - ‘diabetes.csv’ saved [23875/23875]\n",
            "\n"
          ],
          "name": "stdout"
        }
      ]
    },
    {
      "cell_type": "code",
      "metadata": {
        "colab": {
          "base_uri": "https://localhost:8080/",
          "height": 126
        },
        "id": "2TVi_Dvzv5Jm",
        "outputId": "8ecc63bc-50d6-432b-9957-a194c342362e"
      },
      "source": [
        "conjunto de datos  =  pd . read_csv ( \"diabetes.csv\" )"
      ],
      "execution_count": 3,
      "outputs": [
        {
          "output_type": "error",
          "ename": "SyntaxError",
          "evalue": "ignored",
          "traceback": [
            "\u001b[0;36m  File \u001b[0;32m\"<ipython-input-3-c65d61f9fb7e>\"\u001b[0;36m, line \u001b[0;32m1\u001b[0m\n\u001b[0;31m    conjunto de datos  =  pd . read_csv ( \"diabetes.csv\" )\u001b[0m\n\u001b[0m              ^\u001b[0m\n\u001b[0;31mSyntaxError\u001b[0m\u001b[0;31m:\u001b[0m invalid syntax\n"
          ]
        }
      ]
    },
    {
      "cell_type": "code",
      "metadata": {
        "colab": {
          "base_uri": "https://localhost:8080/",
          "height": 126
        },
        "id": "0csLJTAcv5OH",
        "outputId": "6118a97e-ada5-445c-e547-2340d2e5e89a"
      },
      "source": [
        "conjunto de datos . cabeza ()"
      ],
      "execution_count": 4,
      "outputs": [
        {
          "output_type": "error",
          "ename": "SyntaxError",
          "evalue": "ignored",
          "traceback": [
            "\u001b[0;36m  File \u001b[0;32m\"<ipython-input-4-d072697650fd>\"\u001b[0;36m, line \u001b[0;32m1\u001b[0m\n\u001b[0;31m    conjunto de datos . cabeza ()\u001b[0m\n\u001b[0m              ^\u001b[0m\n\u001b[0;31mSyntaxError\u001b[0m\u001b[0;31m:\u001b[0m invalid syntax\n"
          ]
        }
      ]
    },
    {
      "cell_type": "code",
      "metadata": {
        "colab": {
          "base_uri": "https://localhost:8080/",
          "height": 126
        },
        "id": "J7t6BjC9wDXW",
        "outputId": "8edcb20d-f9a9-4079-ad2f-8ff76dfe63c3"
      },
      "source": [
        "conjunto de datos . forma"
      ],
      "execution_count": 5,
      "outputs": [
        {
          "output_type": "error",
          "ename": "SyntaxError",
          "evalue": "ignored",
          "traceback": [
            "\u001b[0;36m  File \u001b[0;32m\"<ipython-input-5-69af52d7283d>\"\u001b[0;36m, line \u001b[0;32m1\u001b[0m\n\u001b[0;31m    conjunto de datos . forma\u001b[0m\n\u001b[0m              ^\u001b[0m\n\u001b[0;31mSyntaxError\u001b[0m\u001b[0;31m:\u001b[0m invalid syntax\n"
          ]
        }
      ]
    },
    {
      "cell_type": "code",
      "metadata": {
        "colab": {
          "base_uri": "https://localhost:8080/",
          "height": 126
        },
        "id": "SBPP5YHfwDa0",
        "outputId": "cf33d2ac-7b82-4dbe-c61d-3e0a05045040"
      },
      "source": [
        "características  =  conjunto de datos . drop ([ \"Resultado\" ],  eje = 1 ) \n",
        "X  =  np . matriz ( características ) \n",
        "y  =  np . matriz ( conjunto de datos [ \"Resultado\" ])"
      ],
      "execution_count": 6,
      "outputs": [
        {
          "output_type": "error",
          "ename": "SyntaxError",
          "evalue": "ignored",
          "traceback": [
            "\u001b[0;36m  File \u001b[0;32m\"<ipython-input-6-725a20762b2d>\"\u001b[0;36m, line \u001b[0;32m1\u001b[0m\n\u001b[0;31m    características  =  conjunto de datos . drop ([ \"Resultado\" ],  eje = 1 )\u001b[0m\n\u001b[0m                                  ^\u001b[0m\n\u001b[0;31mSyntaxError\u001b[0m\u001b[0;31m:\u001b[0m invalid syntax\n"
          ]
        }
      ]
    },
    {
      "cell_type": "code",
      "metadata": {
        "colab": {
          "base_uri": "https://localhost:8080/",
          "height": 158
        },
        "id": "MTlUOrrhwDdo",
        "outputId": "5a17789b-698d-45c5-b252-f6ff53fc5f39"
      },
      "source": [
        "X_train ,  X_val ,  y_train ,  y_val  =  train_test_split ( X ,  y ,  random_state = 0 ,  test_size = 0.20 )"
      ],
      "execution_count": 7,
      "outputs": [
        {
          "output_type": "error",
          "ename": "NameError",
          "evalue": "ignored",
          "traceback": [
            "\u001b[0;31m---------------------------------------------------------------------------\u001b[0m",
            "\u001b[0;31mNameError\u001b[0m                                 Traceback (most recent call last)",
            "\u001b[0;32m<ipython-input-7-c3cb3279f8d0>\u001b[0m in \u001b[0;36m<module>\u001b[0;34m()\u001b[0m\n\u001b[0;32m----> 1\u001b[0;31m \u001b[0mX_train\u001b[0m \u001b[0;34m,\u001b[0m  \u001b[0mX_val\u001b[0m \u001b[0;34m,\u001b[0m  \u001b[0my_train\u001b[0m \u001b[0;34m,\u001b[0m  \u001b[0my_val\u001b[0m  \u001b[0;34m=\u001b[0m  \u001b[0mtrain_test_split\u001b[0m \u001b[0;34m(\u001b[0m \u001b[0mX\u001b[0m \u001b[0;34m,\u001b[0m  \u001b[0my\u001b[0m \u001b[0;34m,\u001b[0m  \u001b[0mrandom_state\u001b[0m \u001b[0;34m=\u001b[0m \u001b[0;36m0\u001b[0m \u001b[0;34m,\u001b[0m  \u001b[0mtest_size\u001b[0m \u001b[0;34m=\u001b[0m \u001b[0;36m0.20\u001b[0m \u001b[0;34m)\u001b[0m\u001b[0;34m\u001b[0m\u001b[0;34m\u001b[0m\u001b[0m\n\u001b[0m",
            "\u001b[0;31mNameError\u001b[0m: name 'train_test_split' is not defined"
          ]
        }
      ]
    },
    {
      "cell_type": "code",
      "metadata": {
        "colab": {
          "base_uri": "https://localhost:8080/",
          "height": 158
        },
        "id": "ZmY01JIzwKL0",
        "outputId": "19b37494-6158-4c70-dc5f-2b3d96d9d266"
      },
      "source": [
        "árbol  =  DecisionTreeClassifier ()"
      ],
      "execution_count": 8,
      "outputs": [
        {
          "output_type": "error",
          "ename": "NameError",
          "evalue": "ignored",
          "traceback": [
            "\u001b[0;31m---------------------------------------------------------------------------\u001b[0m",
            "\u001b[0;31mNameError\u001b[0m                                 Traceback (most recent call last)",
            "\u001b[0;32m<ipython-input-8-975b7989bc8c>\u001b[0m in \u001b[0;36m<module>\u001b[0;34m()\u001b[0m\n\u001b[0;32m----> 1\u001b[0;31m \u001b[0márbol\u001b[0m  \u001b[0;34m=\u001b[0m  \u001b[0mDecisionTreeClassifier\u001b[0m \u001b[0;34m(\u001b[0m\u001b[0;34m)\u001b[0m\u001b[0;34m\u001b[0m\u001b[0;34m\u001b[0m\u001b[0m\n\u001b[0m",
            "\u001b[0;31mNameError\u001b[0m: name 'DecisionTreeClassifier' is not defined"
          ]
        }
      ]
    },
    {
      "cell_type": "code",
      "metadata": {
        "colab": {
          "base_uri": "https://localhost:8080/",
          "height": 158
        },
        "id": "dm4HmIIXwKPV",
        "outputId": "ca6745bd-5dbf-4164-ddce-1414dabb97e6"
      },
      "source": [
        "árbol . ajuste ( X_train ,  y_train )"
      ],
      "execution_count": 9,
      "outputs": [
        {
          "output_type": "error",
          "ename": "NameError",
          "evalue": "ignored",
          "traceback": [
            "\u001b[0;31m---------------------------------------------------------------------------\u001b[0m",
            "\u001b[0;31mNameError\u001b[0m                                 Traceback (most recent call last)",
            "\u001b[0;32m<ipython-input-9-3dfd1e6668ba>\u001b[0m in \u001b[0;36m<module>\u001b[0;34m()\u001b[0m\n\u001b[0;32m----> 1\u001b[0;31m \u001b[0márbol\u001b[0m \u001b[0;34m.\u001b[0m \u001b[0majuste\u001b[0m \u001b[0;34m(\u001b[0m \u001b[0mX_train\u001b[0m \u001b[0;34m,\u001b[0m  \u001b[0my_train\u001b[0m \u001b[0;34m)\u001b[0m\u001b[0;34m\u001b[0m\u001b[0;34m\u001b[0m\u001b[0m\n\u001b[0m",
            "\u001b[0;31mNameError\u001b[0m: name 'árbol' is not defined"
          ]
        }
      ]
    },
    {
      "cell_type": "code",
      "metadata": {
        "colab": {
          "base_uri": "https://localhost:8080/",
          "height": 126
        },
        "id": "9sy-EJhxwKR7",
        "outputId": "06caeae8-a0b2-4fd9-af66-1f6775341243"
      },
      "source": [
        "árbol . árbol_ . máxima profundidad"
      ],
      "execution_count": 10,
      "outputs": [
        {
          "output_type": "error",
          "ename": "SyntaxError",
          "evalue": "ignored",
          "traceback": [
            "\u001b[0;36m  File \u001b[0;32m\"<ipython-input-10-882f12831878>\"\u001b[0;36m, line \u001b[0;32m1\u001b[0m\n\u001b[0;31m    árbol . árbol_ . máxima profundidad\u001b[0m\n\u001b[0m                                      ^\u001b[0m\n\u001b[0;31mSyntaxError\u001b[0m\u001b[0;31m:\u001b[0m invalid syntax\n"
          ]
        }
      ]
    },
    {
      "cell_type": "code",
      "metadata": {
        "id": "u4HJJuQox2Af"
      },
      "source": [
        "validation_prediction  =  árbol . predecir ( X_val ) \n",
        "training_prediction  =  árbol . predecir ( X_train )"
      ],
      "execution_count": null,
      "outputs": []
    },
    {
      "cell_type": "code",
      "metadata": {
        "id": "N9rmO2aXx2G-"
      },
      "source": [
        "print ( 'Exactitud de datos de entrenamiento:' ,  precision_score ( y_true = y_train ,  y_pred = training_prediction )) \n",
        "print ( 'Exactitud de datos de validación:' ,  precision_score ( y_true = y_val ,  y_pred = validation_prediction ))"
      ],
      "execution_count": null,
      "outputs": []
    },
    {
      "cell_type": "code",
      "metadata": {
        "id": "DChfEsZPx2Ja"
      },
      "source": [
        "! apt-get install graphviz"
      ],
      "execution_count": null,
      "outputs": []
    },
    {
      "cell_type": "code",
      "metadata": {
        "id": "IPwWrWeox82T"
      },
      "source": [
        "! pip instalar graphviz"
      ],
      "execution_count": null,
      "outputs": []
    },
    {
      "cell_type": "code",
      "metadata": {
        "id": "3pgqCAB3x87g"
      },
      "source": [
        "importar  graphviz  \n",
        "desde  sklearn.tree  importar  export_graphviz"
      ],
      "execution_count": null,
      "outputs": []
    },
    {
      "cell_type": "code",
      "metadata": {
        "id": "dSbDj3Nxx9An"
      },
      "source": [
        "feature_names  =  características . columnas\n"
      ],
      "execution_count": null,
      "outputs": []
    },
    {
      "cell_type": "code",
      "metadata": {
        "id": "oAUPdC6LyDGF"
      },
      "source": [
        "dot_data  =  export_graphviz ( árbol ,  out_file = None ,  \n",
        "                         feature_names = feature_names ,   \n",
        "                         class_names = True ,   \n",
        "                         lleno = True ,  redondeado = True ,   \n",
        "                         special_characters = True )   \n",
        "graph  =  graphviz . Fuente ( dot_data )"
      ],
      "execution_count": null,
      "outputs": []
    },
    {
      "cell_type": "code",
      "metadata": {
        "id": "-xOz63Y6yDLG"
      },
      "source": [
        "grafico"
      ],
      "execution_count": null,
      "outputs": []
    },
    {
      "cell_type": "code",
      "metadata": {
        "id": "eqwla3QryGoP"
      },
      "source": [
        "tree  =  DecisionTreeClassifier ( min_samples_leaf = 10 ,  max_depth = 8 ,  min_samples_split = 50 )"
      ],
      "execution_count": null,
      "outputs": []
    },
    {
      "cell_type": "code",
      "metadata": {
        "id": "SZkWdnpgyGr-"
      },
      "source": [
        "árbol . ajuste ( X_train ,  y_train )"
      ],
      "execution_count": null,
      "outputs": []
    },
    {
      "cell_type": "code",
      "metadata": {
        "id": "UWwg9IC0yK7W"
      },
      "source": [
        "validation_prediction  =  árbol . predecir ( X_val ) \n",
        "training_prediction  =  árbol . predecir ( X_train )"
      ],
      "execution_count": null,
      "outputs": []
    },
    {
      "cell_type": "code",
      "metadata": {
        "id": "_yL043lXyK-9"
      },
      "source": [
        "print ( 'Exactitud de datos de entrenamiento:' ,  precision_score ( y_true = y_train ,  y_pred = training_prediction )) \n",
        "print ( 'Exactitud de datos de validación:' ,  precision_score ( y_true = y_val ,  y_pred = validation_prediction ))"
      ],
      "execution_count": null,
      "outputs": []
    },
    {
      "cell_type": "code",
      "metadata": {
        "id": "SfHn__VTyQKu"
      },
      "source": [
        "dot_data  =  export_graphviz ( árbol ,  out_file = None ,  \n",
        "                         feature_names = feature_names ,   \n",
        "                         class_names = True ,   \n",
        "                         lleno = True ,  redondeado = True ,   \n",
        "                         special_characters = True )   \n",
        "graph  =  graphviz . Fuente ( dot_data )"
      ],
      "execution_count": null,
      "outputs": []
    },
    {
      "cell_type": "code",
      "metadata": {
        "id": "NYa0KA1IyQOc"
      },
      "source": [
        "grafico"
      ],
      "execution_count": null,
      "outputs": []
    }
  ]
}