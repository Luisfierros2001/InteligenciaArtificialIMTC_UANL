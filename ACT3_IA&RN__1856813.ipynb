{
  "nbformat": 4,
  "nbformat_minor": 0,
  "metadata": {
    "colab": {
      "name": "ACT3_IA&RN_ 1856813",
      "provenance": [],
      "collapsed_sections": []
    },
    "kernelspec": {
      "name": "python3",
      "display_name": "Python 3"
    },
    "language_info": {
      "name": "python"
    }
  },
  "cells": [
    {
      "cell_type": "markdown",
      "metadata": {
        "id": "tx1YyC9OmmoV"
      },
      "source": [
        "# **ACTIVIDAD 3 **\n",
        "## IA y RN N1 VERANOS 2021\n",
        "### Matricula: 1856813   Luis Fernando Garza Esparza\n",
        "### CATEDRATICO: ING. Daniel Isaías López Páez"
      ]
    },
    {
      "cell_type": "markdown",
      "metadata": {
        "id": "IKj0Mgxopr2-"
      },
      "source": [
        "**PROBLEMA 1**"
      ]
    },
    {
      "cell_type": "markdown",
      "metadata": {
        "id": "LF87I1avqIrV"
      },
      "source": [
        "pidele al usuario su nombre y edad, en el año que tendra \"55 años\""
      ]
    },
    {
      "cell_type": "code",
      "metadata": {
        "colab": {
          "base_uri": "https://localhost:8080/"
        },
        "id": "hMPXeGMhnT1k",
        "outputId": "34486178-40d4-482d-9985-f88db5146051"
      },
      "source": [
        "print (\"Escribe tu  nombre\")\n",
        "nombre = input()\n",
        "print (\"tu nombre es:\", nombre)\n",
        "edad = int(input('dinos tu edad: '))\n",
        "e= edad\n",
        "año = (55-e)+2021\n",
        "print(año)\n",
        "año= str(año)\n",
        "print(nombre+' tendras 55 años en el año '+año)"
      ],
      "execution_count": 51,
      "outputs": [
        {
          "output_type": "stream",
          "text": [
            "Escribe tu  nombre\n",
            "Gisela\n",
            "tu nombre es: Gisela\n",
            "dinos tu edad: 19\n",
            "2057\n",
            "Gisela tendras 55 años en el año 2057\n"
          ],
          "name": "stdout"
        }
      ]
    },
    {
      "cell_type": "markdown",
      "metadata": {
        "id": "yp5UoX1lt5_y"
      },
      "source": [
        "**PROBLEMA 2**"
      ]
    },
    {
      "cell_type": "markdown",
      "metadata": {
        "id": "Q4SSEtkYuAW_"
      },
      "source": [
        "PIDE AL USUARIO QUE INGRESE UN NUMERO (SI ES PAR O IMPAR IMPRIME UN MENSAJE CORRESPONDIENTE)"
      ]
    },
    {
      "cell_type": "code",
      "metadata": {
        "colab": {
          "base_uri": "https://localhost:8080/"
        },
        "id": "DC3_mD6iuPbg",
        "outputId": "f1a444f9-36c3-45e0-9cc7-fd7ec5e45fcd"
      },
      "source": [
        "num = int (input('ingrese el numero:'))\n",
        "if (num % 2 == 0):\n",
        "  print('el numero es PAR')\n",
        "else:\n",
        " print ('El numero es IMPAR')"
      ],
      "execution_count": 52,
      "outputs": [
        {
          "output_type": "stream",
          "text": [
            "ingrese el numero:5\n",
            "El numero es IMPAR\n"
          ],
          "name": "stdout"
        }
      ]
    }
  ]
}