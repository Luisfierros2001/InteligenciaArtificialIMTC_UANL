{
  "nbformat": 4,
  "nbformat_minor": 0,
  "metadata": {
    "colab": {
      "name": "EXAM_MC_IA&RN_UANL",
      "provenance": []
    },
    "kernelspec": {
      "name": "python3",
      "display_name": "Python 3"
    },
    "language_info": {
      "name": "python"
    }
  },
  "cells": [
    {
      "cell_type": "markdown",
      "metadata": {
        "id": "zMltHPh0c9j7"
      },
      "source": [
        "# EXAMEN MEDIO CURSO \n",
        "IA&RN N1 02/junio/2021\n",
        "\n",
        "Luis Fernando Garza Esparza 1856813\n",
        "\n",
        "**PROBLEMA **"
      ]
    },
    {
      "cell_type": "markdown",
      "metadata": {
        "id": "B54aU1atdXXh"
      },
      "source": [
        "El usuario dará un número al azar y el código calculará la suma de todos los números desde el 1 hasta el número dado por el usuario.\n",
        "Ejemplo: el usuario dió el número 4, el código deberá de dar como resultado 10."
      ]
    },
    {
      "cell_type": "code",
      "metadata": {
        "colab": {
          "base_uri": "https://localhost:8080/"
        },
        "id": "Dw53_WdOdbmn",
        "outputId": "8ca42f9b-5b5d-46cc-8765-c76bcf81ae48"
      },
      "source": [
        "def sumar(n):\n",
        "  return (n * (n+1)) / 2 \n",
        "\n",
        "N= int(input(\"Introduzca N: \"))\n",
        "suma= sumar(N)\n",
        "print (\"Resultado: \", suma)"
      ],
      "execution_count": 2,
      "outputs": [
        {
          "output_type": "stream",
          "text": [
            "Introduzca N: 5\n",
            "Resultado:  15.0\n"
          ],
          "name": "stdout"
        }
      ]
    }
  ]
}