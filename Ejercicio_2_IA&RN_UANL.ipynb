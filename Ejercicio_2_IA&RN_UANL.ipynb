{
  "nbformat": 4,
  "nbformat_minor": 0,
  "metadata": {
    "colab": {
      "name": "Ejercicio 2_IA&RN_UANL",
      "provenance": [],
      "collapsed_sections": []
    },
    "kernelspec": {
      "name": "python3",
      "display_name": "Python 3"
    },
    "language_info": {
      "name": "python"
    }
  },
  "cells": [
    {
      "cell_type": "code",
      "metadata": {
        "id": "yzSg2Mv97jeE"
      },
      "source": [
        ""
      ],
      "execution_count": null,
      "outputs": []
    },
    {
      "cell_type": "markdown",
      "metadata": {
        "id": "ssiN6Le_75rX"
      },
      "source": [
        "# **ACTIVIDAD 4** \n",
        "\n",
        "### **EJERCICIOS PARTE 2**\n",
        "luis Fernando Garza Esparza 1856813\n",
        "\n",
        "IA & RN N1"
      ]
    },
    {
      "cell_type": "markdown",
      "metadata": {
        "id": "4ch4FU0A8nND"
      },
      "source": [
        "**Problema 1**\n",
        "\n",
        "Crear un programa que le pida al usuario una cadena de caracteres (string) y que imprima el mensaje indicando si la palabra es o no un palindromo."
      ]
    },
    {
      "cell_type": "code",
      "metadata": {
        "colab": {
          "base_uri": "https://localhost:8080/"
        },
        "id": "zw1Y7DeV82Vg",
        "outputId": "7a5c76ae-dfb9-47bd-ba8d-dd2979fb4c13"
      },
      "source": [
        "cadena=input(\"teclea la frase: \")\n",
        "if str(cadena)==str(cadena)[::-1]:\n",
        "  print(\"Es palíndromo\")\n",
        "else:\n",
        "  print(\"No es palíndromo\")"
      ],
      "execution_count": 9,
      "outputs": [
        {
          "output_type": "stream",
          "text": [
            "teclea la frase: radar\n",
            "Es palíndromo\n"
          ],
          "name": "stdout"
        }
      ]
    },
    {
      "cell_type": "markdown",
      "metadata": {
        "id": "ZHW2pA81CXn1"
      },
      "source": [
        "**Problema 2**\n",
        "\n",
        "Dados dos números enteros, el programa deberá regresar (imprimir) el producto de ambos. Si el producto es mayor a 846, deberá regresar la suma de ambos.  En este programa hay que crear una función. "
      ]
    },
    {
      "cell_type": "code",
      "metadata": {
        "colab": {
          "base_uri": "https://localhost:8080/"
        },
        "id": "nfpy3sf9ClmU",
        "outputId": "3156274f-b32e-44cb-9dc5-53cc4cfe83c3"
      },
      "source": [
        "num1 = int(input('Dame un numero entero'))\n",
        "num2 = int(input('Dame otro mas'))\n",
        "\n",
        "\n",
        "\n",
        "def my_function1(num1,num2):\n",
        "  return  num1 + num2\n",
        "\n",
        "resultado_de_suma = my_function1(num1, num2)\n",
        "\n",
        "def my_function2(num1,num2):\n",
        "  return num1 * num2\n",
        "\n",
        "resultado_de_multiplicacion = my_function2(num1, num2)\n",
        "\n",
        "\n",
        "if resultado_de_multiplicacion <= 846:\n",
        "  print (resultado_de_multiplicacion)\n",
        "\n",
        "else: \n",
        "  print (resultado_de_suma)\n"
      ],
      "execution_count": 28,
      "outputs": [
        {
          "output_type": "stream",
          "text": [
            "Dame un numero entero15\n",
            "Dame otro mas15\n",
            "225\n"
          ],
          "name": "stdout"
        }
      ]
    },
    {
      "cell_type": "markdown",
      "metadata": {
        "id": "nzJWk4UzWhue"
      },
      "source": [
        "**Problema 3**\n",
        "\n",
        "Dada una lista de números, el programa deberá regresar True (verdadero) si el primer y último número de la lista son los mismos. En este programa también hay que crear una función. "
      ]
    },
    {
      "cell_type": "code",
      "metadata": {
        "colab": {
          "base_uri": "https://localhost:8080/"
        },
        "id": "2i42TUFtWo3l",
        "outputId": "289935e5-d5d3-4b50-b095-63dc21fb4b7f"
      },
      "source": [
        "numeros= ['1','2','3','3','2','1']\n",
        "\n",
        "primer_numero = numeros[0]\n",
        "\n",
        "ultimo_numero = numeros[-1]\n",
        "\n",
        "if primernumero == ultimo_numero:\n",
        "  print (\"True\")\n",
        "\n",
        "else: \n",
        "  print(\"false\")"
      ],
      "execution_count": 43,
      "outputs": [
        {
          "output_type": "stream",
          "text": [
            "True\n"
          ],
          "name": "stdout"
        }
      ]
    }
  ]
}