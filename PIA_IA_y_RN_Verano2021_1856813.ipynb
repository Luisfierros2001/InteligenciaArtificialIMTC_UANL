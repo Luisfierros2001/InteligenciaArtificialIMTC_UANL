{
  "nbformat": 4,
  "nbformat_minor": 0,
  "metadata": {
    "colab": {
      "name": "PIA_IA_y_RN_Verano2021_1856813",
      "provenance": [],
      "collapsed_sections": []
    },
    "kernelspec": {
      "name": "python3",
      "display_name": "Python 3"
    },
    "language_info": {
      "name": "python"
    }
  },
  "cells": [
    {
      "cell_type": "markdown",
      "metadata": {
        "id": "P0QQSNEmmAxO"
      },
      "source": [
        "![uanl.png](data:image/png;base64,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)\n",
        "![fime2.png](data:image/png;base64,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)"
      ]
    },
    {
      "cell_type": "markdown",
      "metadata": {
        "id": "8_B9JDMbkxnj"
      },
      "source": [
        "#**Inteligencia Artificial y redes Neuronales**\n",
        "#**Producto Integrador de aprendizaje**\n",
        "\n",
        "**Integrantes** \n",
        "\n",
        "Christian Eduwiges Carranza Cabrales   **Maricula:**1889205     **Carrera:** IMTC\n",
        "\n",
        "José Luis Gutiérrez Mendoza            **Matricula:**1800780    **Carrera:**IMTC\n",
        "\n",
        "Luis Fernando Garza Esparza            **Matrícula: 1856813**   **Carrera:**IMTC"
      ]
    },
    {
      "cell_type": "markdown",
      "metadata": {
        "id": "sGuYFAjUVqys"
      },
      "source": [
        "# Importar dataset desde Kaggle"
      ]
    },
    {
      "cell_type": "code",
      "metadata": {
        "id": "QtCLH2eVUJD9"
      },
      "source": [
        "#Install Kaggle\n",
        "!pip install -q kaggle"
      ],
      "execution_count": null,
      "outputs": []
    },
    {
      "cell_type": "code",
      "metadata": {
        "id": "_A0bzLEUUOLs",
        "colab": {
          "resources": {
            "http://localhost:8080/nbextensions/google.colab/files.js": {
              "data": "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",
              "ok": true,
              "headers": [
                [
                  "content-type",
                  "application/javascript"
                ]
              ],
              "status": 200,
              "status_text": ""
            }
          },
          "base_uri": "https://localhost:8080/",
          "height": 91
        },
        "outputId": "a39d6ece-5fc2-443d-a8bb-3f871fb26ae0"
      },
      "source": [
        "from google.colab import files\n",
        "files.upload()"
      ],
      "execution_count": null,
      "outputs": [
        {
          "output_type": "display_data",
          "data": {
            "text/html": [
              "\n",
              "     <input type=\"file\" id=\"files-8b198bda-fdbd-46b9-9976-0b61fb151e98\" name=\"files[]\" multiple disabled\n",
              "        style=\"border:none\" />\n",
              "     <output id=\"result-8b198bda-fdbd-46b9-9976-0b61fb151e98\">\n",
              "      Upload widget is only available when the cell has been executed in the\n",
              "      current browser session. Please rerun this cell to enable.\n",
              "      </output>\n",
              "      <script src=\"/nbextensions/google.colab/files.js\"></script> "
            ],
            "text/plain": [
              "<IPython.core.display.HTML object>"
            ]
          },
          "metadata": {
            "tags": []
          }
        },
        {
          "output_type": "stream",
          "text": [
            "Saving kaggle.json to kaggle (1).json\n"
          ],
          "name": "stdout"
        },
        {
          "output_type": "execute_result",
          "data": {
            "text/plain": [
              "{'kaggle.json': b'{\"username\":\"carranza117\",\"key\":\"9d96401d747f71f719dcc299ef2590a8\"}'}"
            ]
          },
          "metadata": {
            "tags": []
          },
          "execution_count": 34
        }
      ]
    },
    {
      "cell_type": "code",
      "metadata": {
        "colab": {
          "base_uri": "https://localhost:8080/"
        },
        "id": "4SqCY68HUPe_",
        "outputId": "9578b70a-17c1-4b65-9996-00966d24d1cc"
      },
      "source": [
        "! mkdir ~/.kaggle\n",
        "! cp kaggle.json ~/.kaggle/"
      ],
      "execution_count": null,
      "outputs": [
        {
          "output_type": "stream",
          "text": [
            "mkdir: cannot create directory ‘/root/.kaggle’: File exists\n"
          ],
          "name": "stdout"
        }
      ]
    },
    {
      "cell_type": "code",
      "metadata": {
        "id": "ddIbpmhvUQ_x"
      },
      "source": [
        "! chmod 600 ~/.kaggle/kaggle.json"
      ],
      "execution_count": null,
      "outputs": []
    },
    {
      "cell_type": "code",
      "metadata": {
        "colab": {
          "base_uri": "https://localhost:8080/"
        },
        "id": "zae8yquWUSN-",
        "outputId": "ad1c1a0c-7df4-4b1a-e3da-2737809c24a5"
      },
      "source": [
        "! kaggle datasets list"
      ],
      "execution_count": null,
      "outputs": [
        {
          "output_type": "stream",
          "text": [
            "Warning: Looks like you're using an outdated API Version, please consider updating (server 1.5.12 / client 1.5.4)\n",
            "ref                                                         title                                              size  lastUpdated          downloadCount  \n",
            "----------------------------------------------------------  ------------------------------------------------  -----  -------------------  -------------  \n",
            "gpreda/reddit-vaccine-myths                                 Reddit Vaccine Myths                              233KB  2021-07-07 19:18:09           9191  \n",
            "crowww/a-large-scale-fish-dataset                           A Large Scale Fish Dataset                          3GB  2021-04-28 17:03:01           5633  \n",
            "imsparsh/musicnet-dataset                                   MusicNet Dataset                                   22GB  2021-02-18 14:12:19           2041  \n",
            "dhruvildave/wikibooks-dataset                               Wikibooks Dataset                                   2GB  2021-07-03 18:37:20           2404  \n",
            "promptcloud/careerbuilder-job-listing-2020                  Careerbuilder Job Listing 2020                     42MB  2021-03-05 06:59:52           1348  \n",
            "nickuzmenkov/nih-chest-xrays-tfrecords                      NIH Chest X-rays TFRecords                         11GB  2021-03-09 04:49:23            754  \n",
            "fatiimaezzahra/famous-iconic-women                          Famous Iconic Women                               838MB  2021-02-28 14:56:00            948  \n",
            "coloradokb/dandelionimages                                  DandelionImages                                     4GB  2021-02-19 20:03:47            680  \n",
            "alsgroup/end-als                                            End ALS Kaggle Challenge                           12GB  2021-04-08 12:16:37            775  \n",
            "mathurinache/twitter-edge-nodes                             Twitter Edge Nodes                                342MB  2021-03-08 06:43:04            634  \n",
            "simiotic/github-code-snippets                               GitHub Code Snippets                                7GB  2021-03-03 11:34:39            224  \n",
            "landrykezebou/lvzhdr-tone-mapping-benchmark-dataset-tmonet  LVZ-HDR Tone Mapping Benchmark Dataset (TMO-Net)   24GB  2021-03-01 05:03:40            154  \n",
            "mathurinache/the-lj-speech-dataset                          The LJ Speech Dataset                               3GB  2021-02-15 09:19:54            235  \n",
            "imsparsh/accentdb-core-extended                             AccentDB - Core & Extended                          6GB  2021-02-17 14:22:54             92  \n",
            "stuartjames/lights                                          LightS: Light Specularity Dataset                  18GB  2021-02-18 14:32:26             89  \n",
            "nickuzmenkov/ranzcr-clip-kfold-tfrecords                    RANZCR CLiP KFold TFRecords                         2GB  2021-02-21 13:29:51            101  \n",
            "datasnaek/youtube-new                                       Trending YouTube Video Statistics                 201MB  2019-06-03 00:56:47         144504  \n",
            "zynicide/wine-reviews                                       Wine Reviews                                       51MB  2017-11-27 17:08:04         140122  \n",
            "residentmario/ramen-ratings                                 Ramen Ratings                                      40KB  2018-01-11 16:04:39          24889  \n",
            "datasnaek/chess                                             Chess Game Dataset (Lichess)                        3MB  2017-09-04 03:09:09          19908  \n"
          ],
          "name": "stdout"
        }
      ]
    },
    {
      "cell_type": "code",
      "metadata": {
        "colab": {
          "base_uri": "https://localhost:8080/"
        },
        "id": "CWbib5z1U6cy",
        "outputId": "396b6bd5-da16-4c6e-e743-e88ca1f25fc0"
      },
      "source": [
        "! kaggle datasets download -d puneet6060/intel-image-classification"
      ],
      "execution_count": null,
      "outputs": [
        {
          "output_type": "stream",
          "text": [
            "intel-image-classification.zip: Skipping, found more recently modified local copy (use --force to force download)\n"
          ],
          "name": "stdout"
        }
      ]
    },
    {
      "cell_type": "code",
      "metadata": {
        "id": "xsSr13zCU9IM"
      },
      "source": [
        "!unzip intel-image-classification.zip"
      ],
      "execution_count": null,
      "outputs": []
    },
    {
      "cell_type": "markdown",
      "metadata": {
        "id": "6mqT9x2hW7kS"
      },
      "source": [
        "# Importar librerias"
      ]
    },
    {
      "cell_type": "code",
      "metadata": {
        "id": "SsWyPnf8VWzW"
      },
      "source": [
        "import os\n",
        "import pandas as pd\n",
        "import numpy as np\n",
        "import matplotlib.pyplot as plt\n",
        "from keras.preprocessing.image import ImageDataGenerator, load_img\n",
        "from sklearn.model_selection import train_test_split\n",
        "from sklearn.metrics import accuracy_score\n",
        "from sklearn.metrics import confusion_matrix\n",
        "from keras.models import Sequential\n",
        "from keras.layers import Dense, Dropout, Flatten\n",
        "from keras.layers import Conv2D, MaxPool2D"
      ],
      "execution_count": null,
      "outputs": []
    },
    {
      "cell_type": "markdown",
      "metadata": {
        "id": "Ljct84rWWAHW"
      },
      "source": [
        "# Preprocesamiento de los Datos\n",
        "\n",
        "Los \"aumentaremos\" mediante una serie de transformaciones aleatorias, esto ayuda a prevenir el sobreajuste y ayuda a que el modelo generalice mejor.\n",
        "\n",
        "Se le asigna un path a cada carpeta en forma de string, para ser concatenado posteriormente"
      ]
    },
    {
      "cell_type": "code",
      "metadata": {
        "id": "YS8Zwv9aVX5a"
      },
      "source": [
        "seg_train = '/content/seg_train/seg_train'  \n",
        "seg_test = '/content/seg_test/seg_test'\n",
        "seg_pred = '/content/seg_pred/seg_pred'"
      ],
      "execution_count": null,
      "outputs": []
    },
    {
      "cell_type": "markdown",
      "metadata": {
        "id": "GxMXcWgIjN0C"
      },
      "source": [
        "En cada Época, el ImageDataGenerator aplica una transformación en las imágenes que tiene y usa el Imágenes transformadas para entrenamiento. El conjunto de transformaciones incluye rotación, zoom, etc. Al hacer esto, de alguna manera está creando datos nuevos.\n",
        "\n",
        "**ImageDataGenerator** es una clase de preprocesamiento de imágenes en Keras. Se utiliza para generar lotes de datos con aumento de datos en tiempo real."
      ]
    },
    {
      "cell_type": "code",
      "metadata": {
        "id": "gxAeo-56VbI7"
      },
      "source": [
        "generate = ImageDataGenerator(rescale = 1./255,\n",
        "                                   shear_range = 0.2,\n",
        "                                   zoom_range = 0.2,\n",
        "                                   horizontal_flip = True)"
      ],
      "execution_count": null,
      "outputs": []
    },
    {
      "cell_type": "markdown",
      "metadata": {
        "id": "Q8kFNLKxeENL"
      },
      "source": [
        "Estas aumentaciones se guardan en la variable generate\n",
        "\n",
        "**rescale** = es un valor por el cual multiplicaremos los datos antes de cualquier otro procesamiento. Nuestras imágenes originales consisten en coeficientes RGB en el 0-255, pero tales valores serían demasiado altos para que nuestros modelos los procesen (dada una tasa de aprendizaje típica), por lo que apuntamos a valores entre 0 y 1 en lugar de escalar con un 1/255. factor\n",
        "\n",
        "**shear_range**= es para aplicar transformaciones de corte de forma aleatoria\n",
        "\n",
        "**horizontal_flip**= es para voltear aleatoriamente la mitad de las imágenes horizontalmente, relevante cuando no hay suposiciones de asimetría horizontal (por ejemplo, imágenes del mundo real).\n",
        "\n",
        "**zoom_range** = Rango para zoom aleatorio"
      ]
    },
    {
      "cell_type": "code",
      "metadata": {
        "colab": {
          "base_uri": "https://localhost:8080/"
        },
        "id": "UuOPE528Vfyy",
        "outputId": "15182301-7607-45f7-8177-10683206b316"
      },
      "source": [
        "training_set = generate.flow_from_directory(seg_train, # Este es el directorio a buscar\n",
        "                                            target_size = (100, 100), #Todas las imagenes de acoplan a una medida\n",
        "                                            batch_size = 14034,\n",
        "                                            classes = [\"buildings\",\"forest\",\"glacier\",\"mountain\",\"sea\",\"street\"],\n",
        "                                            class_mode = 'categorical')\n",
        "test_set = generate.flow_from_directory(seg_test,  # Este es el directorio a buscar\n",
        "                                        target_size = (100, 100),  #Todas las imagenes de acoplan a una medida\n",
        "                                        batch_size = 3000,\n",
        "                                        classes = [\"buildings\",\"forest\",\"glacier\",\"mountain\",\"sea\",\"street\"],\n",
        "                                        class_mode = 'categorical')"
      ],
      "execution_count": null,
      "outputs": [
        {
          "output_type": "stream",
          "text": [
            "Found 14034 images belonging to 6 classes.\n",
            "Found 3000 images belonging to 6 classes.\n"
          ],
          "name": "stdout"
        }
      ]
    },
    {
      "cell_type": "markdown",
      "metadata": {
        "id": "tFVY3j3wwsP5"
      },
      "source": [
        "##Preparemos nuestros datos.\n",
        "Usaremos **.flow_from_directory ()** para generar lotes de datos de imágenes (y sus etiquetas) directamente desde nuestros jpgs en sus respectivas carpetas.\n",
        "\n",
        "**batch_size**: Tamaño de los lotes. Default: 32.\n",
        "\n",
        "**Classes**: lista opcional de subdirectorios de clases (por ejemplo, ['perros', 'gatos']). Predeterminado: Ninguno. Si no se proporciona, la lista de clases se deducirá automáticamente de los nombres / estructura del subdirectorio en el directorio, donde cada subdirectorio se tratará como una clase diferente (y el orden de las clases, que se correlacionarán con los índices de la etiqueta, será alfanumérico ). El diccionario que contiene el mapeo de los nombres de clase a los índices de clase se puede obtener mediante el atributo class_indices.\n",
        "\n",
        "**class_mode**: Uno de \"categórico\", \"binario\", \"disperso\", \"entrada\" o Ninguno. Predeterminado: \"categórico\". Determina el tipo de matrices de etiquetas que se devuelven: - \"categórica\" ​​serán etiquetas 2D codificadas en caliente, - \"binario\" serán etiquetas binarias 1D, - \"dispersas\" serán etiquetas enteras 1D, - \"entrada\" serán imágenes idénticas a las imágenes de entrada (utilizadas principalmente para trabajar con codificadores automáticos). - Si es None, no se devuelven etiquetas (el generador solo producirá lotes de datos de imagen, lo cual es útil para usar con model.predict ()). Tenga en cuenta que en el caso de class_mode None, los datos aún deben residir en un subdirectorio del directorio para que funcione correctamente."
      ]
    },
    {
      "cell_type": "code",
      "metadata": {
        "id": "vv4RbwO0XmVe"
      },
      "source": [
        "X_train,y_train = training_set.next()\n",
        "X_test,y_test = test_set.next()"
      ],
      "execution_count": null,
      "outputs": []
    },
    {
      "cell_type": "markdown",
      "metadata": {
        "id": "Wi16V3N-1Ltf"
      },
      "source": [
        "Toma la ruta a un directorio y genera lotes de datos aumentados.\n",
        "Un DirectoryIterator que produce tuplas de (x, y) donde x es una matriz numpy que contiene un lote de imágenes con forma (batch_size, * target_size, channels) ey es una matriz numpy de etiquetas correspondientes"
      ]
    },
    {
      "cell_type": "markdown",
      "metadata": {
        "id": "RixbMTJ8WHdw"
      },
      "source": [
        "# Creacion del modelo\n",
        "\n",
        "El modelo secuencial es una pila lineal de capas.\n",
        "\n",
        "Puede crear un modelo secuencial pasando una lista de instancias de capa al constructor. El modelo necesita saber qué forma de entrada debe esperar. Por esta razón, la primera capa en un modelo secuencial (y solo la primera, porque las siguientes capas pueden hacer inferencias de forma automática) necesita recibir información sobre su forma de entrada. \n",
        " \n",
        "*   Pasar un argumento input_shape a la primera capa. Esta es una tupla de forma (una tupla de enteros o entradas None, donde None indica que se puede esperar cualquier entero positivo).\n",
        "\n",
        "*   En input_shape, no se incluye la dimensión del lote.\n",
        "en su lugar, pase un argumento batch_input_shape, donde se incluye la dimensión del lote. Esto es útil para especificar un tamaño de lote fijo (por ejemplo, con RNN con estado).\n",
        "*   Algunas capas 2D, como Dense, admiten la especificación de su forma de entrada a través del argumento input_dim, y algunas capas temporales 3D admiten los argumentos input_dim y input_length.\n",
        "\n",
        "\n",
        "\n",
        "\n",
        "\n",
        "\n",
        "\n"
      ]
    },
    {
      "cell_type": "code",
      "metadata": {
        "id": "1p-Ic9NAYBlC"
      },
      "source": [
        "model = Sequential()\n",
        "model.add(Conv2D(32,(3,3), input_shape=(100,100,3), activation='relu'))\n",
        "model.add(MaxPool2D(pool_size=(2,2),strides=None))\n",
        "model.add(Conv2D(64,(3,3), activation='relu' , padding= \"same\"))\n",
        "model.add(MaxPool2D(pool_size=(2,2),strides=None))\n",
        "model.add(Conv2D(64,(3,3), activation='relu' , padding= \"same\"))\n",
        "model.add(MaxPool2D(pool_size=(2,2),strides=None))\n",
        "model.add(Conv2D(128,(3,3), activation='relu' , padding= \"same\"))\n",
        "model.add(MaxPool2D(pool_size=(2,2),strides=None))\n",
        "model.add(Conv2D(128,(3,3), activation='relu' , padding= \"same\"))\n",
        "model.add(MaxPool2D(pool_size=(2,2),strides=None))\n",
        "model.add(Flatten())\n",
        "model.add(Dense(512, activation='relu'))\n",
        "model.add(Dropout(0.50))\n",
        "model.add(Dense(6,activation ='softmax'))"
      ],
      "execution_count": null,
      "outputs": []
    },
    {
      "cell_type": "markdown",
      "metadata": {
        "id": "CdOmb6RNvT-o"
      },
      "source": [
        "**Conv2D** = Crea un kernel de convolusion que aunado a la capa input produce un tensor de outputs.\n",
        "\n",
        "**MaxPool2D** = calcula el maximo o mas grande valor en cada lote de cada canal del input.\n",
        "\n",
        "**Flatten** = Aplana el input sin afecar el tamaño del lote.\n",
        "\n",
        "**Dense** = Comparte todos los outputs de la capa anterior con todas las neuronas, cada neurona arroja un output en la siguiente capa.\n",
        "\n",
        "**Dropout** = Es oara seleccionar neuronas de manera aleatoria para ignorarlas durante el entrenamiento. Esto significa que se descalifica temporalmente su contribucion a la activasion de nuevas neuronas.\n",
        "\n",
        "**Conv2D(32,(3,3)** = Si las imagenes son mayores a 128x128 se recomienta usar un tamaño de kernel >3 para que el input pueda aprender con filtros mas grandes y redicur el volumen.\n",
        "\n",
        "**pool_size**: Es la ventana de tamaño en la que se determina el valor maximo. (2,2) va a sacar un valor maximo en una ventana de 2x2.\n",
        "\n",
        "**strides**: Espesifica que tanto se aleja la pooling window de cada pooling step. Si no hay strides se toma la pool size.\n",
        "\n",
        "**padding**: Cuando arroja \"valid\" no pasa nada. Si arroja \"same\" se rellena equitativamente de izquierda a derecha o de arribaa a bajo para que el input tenga las mismas dimensiones que el output."
      ]
    },
    {
      "cell_type": "code",
      "metadata": {
        "id": "8rUjAC8sYk-w"
      },
      "source": [
        "model.compile(optimizer=\"adam\", loss= \"categorical_crossentropy\", metrics=[\"accuracy\"])"
      ],
      "execution_count": null,
      "outputs": []
    },
    {
      "cell_type": "code",
      "metadata": {
        "colab": {
          "base_uri": "https://localhost:8080/"
        },
        "id": "-dA-DYtwYoiX",
        "outputId": "2bf90771-e498-42bd-8c76-9f49b96991bf"
      },
      "source": [
        "model.summary()"
      ],
      "execution_count": null,
      "outputs": [
        {
          "output_type": "stream",
          "text": [
            "Model: \"sequential_1\"\n",
            "_________________________________________________________________\n",
            "Layer (type)                 Output Shape              Param #   \n",
            "=================================================================\n",
            "conv2d_5 (Conv2D)            (None, 98, 98, 32)        896       \n",
            "_________________________________________________________________\n",
            "max_pooling2d_5 (MaxPooling2 (None, 49, 49, 32)        0         \n",
            "_________________________________________________________________\n",
            "conv2d_6 (Conv2D)            (None, 49, 49, 64)        18496     \n",
            "_________________________________________________________________\n",
            "max_pooling2d_6 (MaxPooling2 (None, 24, 24, 64)        0         \n",
            "_________________________________________________________________\n",
            "conv2d_7 (Conv2D)            (None, 24, 24, 64)        36928     \n",
            "_________________________________________________________________\n",
            "max_pooling2d_7 (MaxPooling2 (None, 12, 12, 64)        0         \n",
            "_________________________________________________________________\n",
            "conv2d_8 (Conv2D)            (None, 12, 12, 128)       73856     \n",
            "_________________________________________________________________\n",
            "max_pooling2d_8 (MaxPooling2 (None, 6, 6, 128)         0         \n",
            "_________________________________________________________________\n",
            "conv2d_9 (Conv2D)            (None, 6, 6, 128)         147584    \n",
            "_________________________________________________________________\n",
            "max_pooling2d_9 (MaxPooling2 (None, 3, 3, 128)         0         \n",
            "_________________________________________________________________\n",
            "flatten_1 (Flatten)          (None, 1152)              0         \n",
            "_________________________________________________________________\n",
            "dense_2 (Dense)              (None, 512)               590336    \n",
            "_________________________________________________________________\n",
            "dropout_1 (Dropout)          (None, 512)               0         \n",
            "_________________________________________________________________\n",
            "dense_3 (Dense)              (None, 6)                 3078      \n",
            "=================================================================\n",
            "Total params: 871,174\n",
            "Trainable params: 871,174\n",
            "Non-trainable params: 0\n",
            "_________________________________________________________________\n"
          ],
          "name": "stdout"
        }
      ]
    },
    {
      "cell_type": "markdown",
      "metadata": {
        "id": "OIDI88PrWNbx"
      },
      "source": [
        "# Entrenamiento"
      ]
    },
    {
      "cell_type": "code",
      "metadata": {
        "colab": {
          "base_uri": "https://localhost:8080/"
        },
        "id": "trVwhxZWZU5X",
        "outputId": "9c1df5f4-c633-4c25-d645-a94a1767537c"
      },
      "source": [
        "Model = model.fit(X_train, y_train, epochs = 15, verbose=1, batch_size=500, validation_split = 0.1)"
      ],
      "execution_count": null,
      "outputs": [
        {
          "output_type": "stream",
          "text": [
            "Epoch 1/15\n",
            "26/26 [==============================] - 232s 8s/step - loss: 1.6020 - accuracy: 0.3136 - val_loss: 1.1195 - val_accuracy: 0.5406\n",
            "Epoch 2/15\n",
            "26/26 [==============================] - 214s 8s/step - loss: 1.0995 - accuracy: 0.5654 - val_loss: 1.0133 - val_accuracy: 0.5869\n",
            "Epoch 3/15\n",
            "26/26 [==============================] - 214s 8s/step - loss: 1.0121 - accuracy: 0.6104 - val_loss: 0.7980 - val_accuracy: 0.6809\n",
            "Epoch 4/15\n",
            "26/26 [==============================] - 214s 8s/step - loss: 0.8765 - accuracy: 0.6701 - val_loss: 0.7547 - val_accuracy: 0.6973\n",
            "Epoch 5/15\n",
            "26/26 [==============================] - 214s 8s/step - loss: 0.8246 - accuracy: 0.6930 - val_loss: 0.7408 - val_accuracy: 0.7251\n",
            "Epoch 6/15\n",
            "26/26 [==============================] - 214s 8s/step - loss: 0.7908 - accuracy: 0.7099 - val_loss: 0.7242 - val_accuracy: 0.7165\n",
            "Epoch 7/15\n",
            "26/26 [==============================] - 214s 8s/step - loss: 0.7560 - accuracy: 0.7209 - val_loss: 0.6462 - val_accuracy: 0.7500\n",
            "Epoch 8/15\n",
            "26/26 [==============================] - 214s 8s/step - loss: 0.6824 - accuracy: 0.7548 - val_loss: 0.6984 - val_accuracy: 0.7336\n",
            "Epoch 9/15\n",
            "26/26 [==============================] - 213s 8s/step - loss: 0.6596 - accuracy: 0.7576 - val_loss: 0.7162 - val_accuracy: 0.7336\n",
            "Epoch 10/15\n",
            "26/26 [==============================] - 214s 8s/step - loss: 0.6601 - accuracy: 0.7564 - val_loss: 0.5663 - val_accuracy: 0.7842\n",
            "Epoch 11/15\n",
            "26/26 [==============================] - 214s 8s/step - loss: 0.5460 - accuracy: 0.8022 - val_loss: 0.5381 - val_accuracy: 0.7963\n",
            "Epoch 12/15\n",
            "26/26 [==============================] - 214s 8s/step - loss: 0.5729 - accuracy: 0.7881 - val_loss: 0.5446 - val_accuracy: 0.8056\n",
            "Epoch 13/15\n",
            "26/26 [==============================] - 214s 8s/step - loss: 0.5378 - accuracy: 0.8074 - val_loss: 0.6068 - val_accuracy: 0.7671\n",
            "Epoch 14/15\n",
            "26/26 [==============================] - 214s 8s/step - loss: 0.4960 - accuracy: 0.8228 - val_loss: 0.4465 - val_accuracy: 0.8419\n",
            "Epoch 15/15\n",
            "26/26 [==============================] - 214s 8s/step - loss: 0.4539 - accuracy: 0.8384 - val_loss: 0.5823 - val_accuracy: 0.7756\n"
          ],
          "name": "stdout"
        }
      ]
    },
    {
      "cell_type": "code",
      "metadata": {
        "colab": {
          "base_uri": "https://localhost:8080/"
        },
        "id": "BcbQsP5Imnqj",
        "outputId": "f1ee71db-6841-4d47-ddb0-866b292154d3"
      },
      "source": [
        "score = model.evaluate(X_test, y_test, verbose=1)"
      ],
      "execution_count": null,
      "outputs": [
        {
          "output_type": "stream",
          "text": [
            "94/94 [==============================] - 13s 138ms/step - loss: 0.6515 - accuracy: 0.7520\n"
          ],
          "name": "stdout"
        }
      ]
    },
    {
      "cell_type": "code",
      "metadata": {
        "id": "Hoa_qd73m5R0"
      },
      "source": [
        "plt.plot(Model.history['accuracy'])\n",
        "plt.plot(Model.history['val_accuracy'])\n",
        "plt.title('Model Accuracy')\n",
        "plt.ylabel('Accuracy')\n",
        "plt.xlabel('Epoch')\n",
        "plt.legend(['Training set', 'Validation set'], loc='upper left')\n",
        "plt.show()"
      ],
      "execution_count": null,
      "outputs": []
    },
    {
      "cell_type": "code",
      "metadata": {
        "id": "kj4zMgJ7oZry"
      },
      "source": [
        "\n",
        "plt.plot(Model.history['val_loss'])\n",
        "plt.plot(Model.history['loss'])\n",
        "plt.title('Model Loss')\n",
        "plt.ylabel('Loss')\n",
        "plt.xlabel('Epoch')\n",
        "plt.legend(['Training set', 'Test set'], loc='upper left')\n",
        "plt.show()"
      ],
      "execution_count": null,
      "outputs": []
    },
    {
      "cell_type": "code",
      "metadata": {
        "id": "yLdbWQF4oeF9"
      },
      "source": [
        "model.save(\"model.h5\")"
      ],
      "execution_count": null,
      "outputs": []
    },
    {
      "cell_type": "code",
      "metadata": {
        "id": "vDhl_OFRogJp"
      },
      "source": [
        "from keras.models import load_model"
      ],
      "execution_count": null,
      "outputs": []
    },
    {
      "cell_type": "code",
      "metadata": {
        "id": "Xj_CL85bojDW"
      },
      "source": [
        "model = load_model('model.h5')\n",
        "model.summary()"
      ],
      "execution_count": null,
      "outputs": []
    },
    {
      "cell_type": "code",
      "metadata": {
        "id": "yfvDab_Bo1zU"
      },
      "source": [
        "print('Test loss:', score[0])\n",
        "print('Test accuracy:', score[1])"
      ],
      "execution_count": null,
      "outputs": []
    },
    {
      "cell_type": "code",
      "metadata": {
        "id": "j9KQbdVlsWz0"
      },
      "source": [
        "predictions = model.predict(X_test)"
      ],
      "execution_count": null,
      "outputs": []
    },
    {
      "cell_type": "markdown",
      "metadata": {
        "id": "E1uwpDXUWUxI"
      },
      "source": [
        "# Predicciones"
      ]
    },
    {
      "cell_type": "code",
      "metadata": {
        "colab": {
          "base_uri": "https://localhost:8080/"
        },
        "id": "M5H8Uegmu2x5",
        "outputId": "4df15380-eab6-48e2-c3a3-d88f11dee253"
      },
      "source": [
        "predictions[0]\n"
      ],
      "execution_count": null,
      "outputs": [
        {
          "output_type": "execute_result",
          "data": {
            "text/plain": [
              "array([1.2511462e-03, 6.3721949e-01, 2.2000029e-05, 6.9876216e-07,\n",
              "       1.1953033e-05, 3.6149466e-01], dtype=float32)"
            ]
          },
          "metadata": {
            "tags": []
          },
          "execution_count": 67
        }
      ]
    },
    {
      "cell_type": "code",
      "metadata": {
        "colab": {
          "base_uri": "https://localhost:8080/"
        },
        "id": "V9ratjrWvZL6",
        "outputId": "415a4360-22de-492c-e99b-dd48b29629bc"
      },
      "source": [
        "predictions[1]"
      ],
      "execution_count": null,
      "outputs": [
        {
          "output_type": "execute_result",
          "data": {
            "text/plain": [
              "array([0.00134652, 0.00103761, 0.13604468, 0.5237536 , 0.3364564 ,\n",
              "       0.00136116], dtype=float32)"
            ]
          },
          "metadata": {
            "tags": []
          },
          "execution_count": 68
        }
      ]
    },
    {
      "cell_type": "code",
      "metadata": {
        "colab": {
          "base_uri": "https://localhost:8080/"
        },
        "id": "7xW3JACGvlHG",
        "outputId": "7bcb35f2-322c-41a9-c551-deeddc060b76"
      },
      "source": [
        "predictions[2]"
      ],
      "execution_count": null,
      "outputs": [
        {
          "output_type": "execute_result",
          "data": {
            "text/plain": [
              "array([2.0756738e-04, 1.8031730e-03, 3.0687220e-02, 7.8657430e-01,\n",
              "       1.8054079e-01, 1.8696582e-04], dtype=float32)"
            ]
          },
          "metadata": {
            "tags": []
          },
          "execution_count": 69
        }
      ]
    },
    {
      "cell_type": "code",
      "metadata": {
        "colab": {
          "base_uri": "https://localhost:8080/"
        },
        "id": "2omc7QADvtxu",
        "outputId": "54bde48f-1399-40d4-8845-7bcc4d9d3952"
      },
      "source": [
        "predictions[3]"
      ],
      "execution_count": null,
      "outputs": [
        {
          "output_type": "execute_result",
          "data": {
            "text/plain": [
              "array([0.28278357, 0.00091949, 0.01143672, 0.07629044, 0.4439471 ,\n",
              "       0.18462266], dtype=float32)"
            ]
          },
          "metadata": {
            "tags": []
          },
          "execution_count": 71
        }
      ]
    },
    {
      "cell_type": "code",
      "metadata": {
        "colab": {
          "base_uri": "https://localhost:8080/"
        },
        "id": "zaqY4PgmvrFC",
        "outputId": "e579b6b5-57c7-4115-fdb2-1fee9f0edbf7"
      },
      "source": [
        "np.argmax(predictions[0])"
      ],
      "execution_count": null,
      "outputs": [
        {
          "output_type": "execute_result",
          "data": {
            "text/plain": [
              "1"
            ]
          },
          "metadata": {
            "tags": []
          },
          "execution_count": 70
        }
      ]
    },
    {
      "cell_type": "markdown",
      "metadata": {
        "id": "KT3t2UMVfF7a"
      },
      "source": [
        "#**Referencias**.\n",
        "Documentacion de Keras\n",
        "\n",
        "https://keras.io/api/preprocessing/image/\n",
        "\n",
        "https://datasmarts.net/es/como-usar-imagedatagenerator-para-entrenar-una-cnn-en-keras/\n",
        "\n",
        "Documentacion de TensorFlow\n",
        "\n",
        "https://www.tensorflow.org/api_docs/python/tf/keras/preprocessing/image/ImageDataGenerator\n",
        "\n",
        "Documentacion de TF:\n",
        "\n",
        " https://www.tensorflow.org/api_docs/python/tf/keras/layers/Conv2D\n",
        "\n",
        "Vlog de Machine Learning Mastery:\n",
        "\n",
        " https://machinelearningmastery.com/pooling-layers-for-convolutional-neural-networks/\n",
        "\n",
        "Documentacion de Keras: \n",
        "\n",
        "https://keras.io/api/layers/reshaping_layers/flatten/\n",
        "\n",
        "Guia de Keras:\n",
        "\n",
        " https://keras.io/api/layers/pooling_layers/max_pooling2d/\n",
        "\n",
        "Stack Overflow:\n",
        "\n",
        " https://stackoverflow.com/questions/43755293/what-does-dense-do#:~:text=Dense%20is%20the%20only%20actual,basic%20layer%20in%20neural%20networks.\n",
        "\n",
        "Vlog de Machine Learning Mastery:\n",
        "\n",
        " https://machinelearningmastery.com/dropout-regularization-deep-learning-models-keras/\n",
        "\n"
      ]
    },
    {
      "cell_type": "markdown",
      "metadata": {
        "id": "FTfElKqM-zwq"
      },
      "source": [
        ""
      ]
    }
  ]
}